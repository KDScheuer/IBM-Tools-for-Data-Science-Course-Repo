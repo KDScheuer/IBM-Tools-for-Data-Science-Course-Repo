{
  "metadata": {
    "kernelspec": {
      "name": "python",
      "display_name": "Python (Pyodide)",
      "language": "python"
    },
    "language_info": {
      "codemirror_mode": {
        "name": "python",
        "version": 3
      },
      "file_extension": ".py",
      "mimetype": "text/x-python",
      "name": "python",
      "nbconvert_exporter": "python",
      "pygments_lexer": "ipython3",
      "version": "3.8"
    }
  },
  "nbformat_minor": 4,
  "nbformat": 4,
  "cells": [
    {
      "cell_type": "markdown",
      "source": "**Question 1: Extracting Tesla Stock Data Using yfinance**",
      "metadata": {}
    },
    {
      "cell_type": "markdown",
      "source": "Creating an object with the Ticker Function and the symbol TSLA",
      "metadata": {}
    },
    {
      "cell_type": "code",
      "source": "tesla = yf.Ticker(\"TSLA\")",
      "metadata": {
        "trusted": true
      },
      "outputs": [],
      "execution_count": null
    },
    {
      "cell_type": "markdown",
      "source": "Using the ticker object and the history function to extract stock information and save it in a dataframe",
      "metadata": {}
    },
    {
      "cell_type": "code",
      "source": "tesla_data = tesla.history(period=\"max\")",
      "metadata": {
        "trusted": true
      },
      "outputs": [],
      "execution_count": null
    },
    {
      "cell_type": "markdown",
      "source": "reseting the index and displaying the first rows",
      "metadata": {}
    },
    {
      "cell_type": "code",
      "source": "tesla_data.reset_index(inplace=True)\ntesla_data.head()",
      "metadata": {
        "trusted": true
      },
      "outputs": [],
      "execution_count": null
    },
    {
      "cell_type": "markdown",
      "source": "**Question 2: Extracting Tesla Revenue Data Using Webscraping**",
      "metadata": {}
    },
    {
      "cell_type": "markdown",
      "source": "Sending the HTTP reques to the webpage",
      "metadata": {}
    },
    {
      "cell_type": "code",
      "source": "url = \"https://www.macrotrends.net/stocks/charts/TSLA/tesla-inc/revenue\"\nhtml_data = requests.get(url).text",
      "metadata": {
        "trusted": true
      },
      "outputs": [],
      "execution_count": null
    },
    {
      "cell_type": "markdown",
      "source": "Parseing the HTML content",
      "metadata": {}
    },
    {
      "cell_type": "code",
      "source": "soup = BeautifulSoup(html_data, 'html5lib')",
      "metadata": {
        "trusted": true
      },
      "outputs": [],
      "execution_count": null
    },
    {
      "cell_type": "markdown",
      "source": "Extracting the data using BeautifulSoup",
      "metadata": {}
    },
    {
      "cell_type": "code",
      "source": "data_list = []\n\nfor row in soup.find(\"tbody\").find_all(\"tr\"):\n    col = row.find_all(\"td\")\n    date = col[0].text\n    Open = col[1].text\n    high = col[2].text\n    low = col[3].text\n    close = col[4].text\n    adj_close = col[5].text\n    volume = col[6].text\n\n    data_list.append({\"Date\": date, \"Open\": Open, \"High\": high, \"Low\": low, \"Close\": close, \"Adj Close\": adj_close, \"Volume\": volume})\n",
      "metadata": {
        "trusted": true
      },
      "outputs": [],
      "execution_count": null
    },
    {
      "cell_type": "markdown",
      "source": "**Question 3: Extracting GameStop Stock Data Using yfinance**",
      "metadata": {}
    },
    {
      "cell_type": "markdown",
      "source": "Creating an object with the Ticker Function and the symbol TSLA",
      "metadata": {}
    },
    {
      "cell_type": "code",
      "source": "gamestop = yf.Ticker(\"GME\")",
      "metadata": {
        "trusted": true
      },
      "outputs": [],
      "execution_count": null
    },
    {
      "cell_type": "markdown",
      "source": "Using the ticker object and the history function to extract stock information and save it in a dataframe",
      "metadata": {}
    },
    {
      "cell_type": "code",
      "source": "gamestop_data = gamestop.history(period=\"max\")",
      "metadata": {
        "trusted": true
      },
      "outputs": [],
      "execution_count": null
    },
    {
      "cell_type": "markdown",
      "source": "reseting the index and displaying the first rows",
      "metadata": {}
    },
    {
      "cell_type": "code",
      "source": "tesla_data.reset_index(inplace=True)\ntesla_data.head()",
      "metadata": {
        "trusted": true
      },
      "outputs": [],
      "execution_count": null
    },
    {
      "cell_type": "markdown",
      "source": "**Question 4: Extracting Gamestop Revenue Data Using Webscraping**",
      "metadata": {}
    },
    {
      "cell_type": "markdown",
      "source": "Sending the HTTP reques to the webpage",
      "metadata": {}
    },
    {
      "cell_type": "code",
      "source": "url = \"https://www.macrotrends.net/stocks/charts/GME/gamestop/revenue\"\nhtml_data = requests.get(url).text",
      "metadata": {
        "trusted": true
      },
      "outputs": [],
      "execution_count": null
    },
    {
      "cell_type": "markdown",
      "source": "Parseing the HTML content",
      "metadata": {}
    },
    {
      "cell_type": "code",
      "source": "soup = BeautifulSoup(html_data, 'html5lib')",
      "metadata": {
        "trusted": true
      },
      "outputs": [],
      "execution_count": null
    },
    {
      "cell_type": "markdown",
      "source": "Extracting the data using BeautifulSoup",
      "metadata": {}
    },
    {
      "cell_type": "code",
      "source": "data_list = []\n\nfor row in soup.find(\"tbody\").find_all(\"tr\"):\n    col = row.find_all(\"td\")\n    date = col[0].text\n    Open = col[1].text\n    high = col[2].text\n    low = col[3].text\n    close = col[4].text\n    adj_close = col[5].text\n    volume = col[6].text\n\n    data_list.append({\"Date\": date, \"Open\": Open, \"High\": high, \"Low\": low, \"Close\": close, \"Adj Close\": adj_close, \"Volume\": volume})",
      "metadata": {
        "trusted": true
      },
      "outputs": [],
      "execution_count": null
    },
    {
      "cell_type": "markdown",
      "source": "**Question 5: Tesla Stock and Revenue Dashboard**",
      "metadata": {}
    },
    {
      "cell_type": "code",
      "source": "merged_tesla_data = pd.merge(tesla_stock_data, tesla_revenue_df, on=\"Date\", how=\"inner\")\n\nfig_tesla = px.line(merged_tesla_data, x=\"Date\", y=[\"Close\", \"Revenue\"], title=\"Tesla Stock and Revenue Dashboard\")\nfig_tesla.show()",
      "metadata": {
        "trusted": true
      },
      "outputs": [],
      "execution_count": null
    },
    {
      "cell_type": "markdown",
      "source": "**Question 6: GameStop Stock and Revenue Dashboard**",
      "metadata": {}
    },
    {
      "cell_type": "code",
      "source": "merged_gamestop_data = pd.merge(gamestop_stock_data, gamestop_revenue_df, on=\"Date\", how=\"inner\")\n\nfig_gamestop = px.line(merged_gamestop_data, x=\"Date\", y=[\"Close\", \"Revenue\"], title=\"GameStop Stock and Revenue Dashboard\")\nfig_gamestop.show()",
      "metadata": {
        "trusted": true
      },
      "outputs": [],
      "execution_count": null
    }
  ]
}
