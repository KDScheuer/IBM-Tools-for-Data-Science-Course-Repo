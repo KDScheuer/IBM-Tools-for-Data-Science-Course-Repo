{
 "cells": [
  {
   "cell_type": "markdown",
   "id": "bce8e986-3cbf-41a3-9481-2cb4a1afbc8e",
   "metadata": {},
   "source": [
    "# Data Science Tools and Ecosystem"
   ]
  },
  {
   "cell_type": "markdown",
   "id": "f893fbab-60d9-45e8-be0d-e7c380289cad",
   "metadata": {},
   "source": [
    "In this notebook, Data Science Tools and Ecosystem are summarized."
   ]
  },
  {
   "cell_type": "markdown",
   "id": "f32b2bcc-f6c9-41fb-a6bb-aad25edf7241",
   "metadata": {},
   "source": [
    "# Some of the popular languages that Data Scientists use are:\n",
    "\n",
    "1. **Python:**\n",
    "\n",
    "2. **R:**\n",
    "\n",
    "3. **SQL:**"
   ]
  },
  {
   "cell_type": "markdown",
   "id": "453ff98f-336d-4a34-bfd5-f4da670878dd",
   "metadata": {},
   "source": [
    "# Some of the commonly used libraries used by Data Scientists include:\n",
    "\n",
    "1. **NumPy:**\n",
    "\n",
    "2. **Pandas:**\n",
    "\n",
    "3. **Matplotlib:**"
   ]
  },
  {
   "cell_type": "markdown",
   "id": "85850cd9-823c-4d9e-ad64-e232b955f33b",
   "metadata": {},
   "source": [
    "| Data Science Tools            |\n",
    "| ----------------------------- |\n",
    "| Jupyter Notebooks             |\n",
    "| RStudio                       |\n",
    "| VSCode (Visual Studio Code)   |"
   ]
  },
  {
   "cell_type": "markdown",
   "id": "a7585093-356b-4ced-a1ad-4b38ff074646",
   "metadata": {},
   "source": [
    "### Examples of Evaluating Arithmetic Expressions in Python\n",
    "\n",
    "Below are a few examples of evaluating arithmetic expressions in Python."
   ]
  },
  {
   "cell_type": "code",
   "execution_count": null,
   "id": "7167e0d5-c98c-40cc-b606-85b2765326a6",
   "metadata": {},
   "outputs": [],
   "source": [
    "# This is a simple arithmetic expression to multiply then add integers.\n",
    "result = (3 * 4) + 5\n",
    "result"
   ]
  },
  {
   "cell_type": "code",
   "execution_count": null,
   "id": "ed0b571b-019f-4896-9002-beeca65c9676",
   "metadata": {},
   "outputs": [],
   "source": [
    "# This will convert 200 minutes to hours by dividing by 60.\n",
    "minutes = 200\n",
    "hours = minutes / 60\n",
    "hours"
   ]
  },
  {
   "cell_type": "markdown",
   "id": "9127f872-ede2-468d-b023-da05e277e3f0",
   "metadata": {},
   "source": [
    "**Objectives:**\n",
    "\n",
    "- List popular languages for Data Science.\n",
    "- Introduce commonly used libraries in data science.\n",
    "- Demonstrate creating Markdown cells in Jupyter Notebook.\n",
    "- Execute basic arithmetic expressions in a code cell.\n",
    "- Convert minutes to hours using a code cell."
   ]
  },
  {
   "cell_type": "markdown",
   "id": "27420351-4c34-4119-a5aa-3ef7880f4fa4",
   "metadata": {},
   "source": [
    "## Author\n",
    "\n",
    "Kris"
   ]
  }
 ],
 "metadata": {
  "kernelspec": {
   "display_name": "anaconda-panel-2023.05-py310",
   "language": "python",
   "name": "conda-env-anaconda-panel-2023.05-py310-py"
  },
  "language_info": {
   "codemirror_mode": {
    "name": "ipython",
    "version": 3
   },
   "file_extension": ".py",
   "mimetype": "text/x-python",
   "name": "python",
   "nbconvert_exporter": "python",
   "pygments_lexer": "ipython3",
   "version": "3.11.5"
  }
 },
 "nbformat": 4,
 "nbformat_minor": 5
}
